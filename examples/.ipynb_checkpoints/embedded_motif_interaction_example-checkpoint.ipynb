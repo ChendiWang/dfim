{
 "cells": [
  {
   "cell_type": "markdown",
   "metadata": {},
   "source": [
    "# DFIM: Recovering interactions between embedded motifs\n",
    "\n",
    "In this example we recover interactions between embedded motifs. We simulate three sets sequences:\n",
    "\n",
    "- Class 1: 20,000 sequences with motif A (the SIX5 motif) embedded 1-2 times\n",
    "- Class 2: 20,000 sequences with motif B (the ELF1 motif) \n",
    "- Class 3: 20,000 sequences with motif A and motif B (SIX5 and ELF1)\n",
    "\n",
    "\n",
    "We train a model that will only predict a positive label when both motifs are present. Thus Class 3 sequences are positive and Class 1 and 2 are both negative. The model must learn the interaction between motif A and B. We also randomly add in motifs C and D (AP1 and TAL1) 0, 1, or 2 times into all 60,000 sequences.\n",
    "\n",
    "Knowing the ground truth, we show that DFIM recover an interaction between motifs A and B in Class 3 sequences but not between any other of the embedded motifs."
   ]
  },
  {
   "cell_type": "code",
   "execution_count": 4,
   "metadata": {},
   "outputs": [
    {
     "name": "stderr",
     "output_type": "stream",
     "text": [
      "Using Theano backend.\n",
      "Using gpu device 5: GeForce GTX TITAN X (CNMeM is disabled, cuDNN 5105)\n",
      "/users/pgreens/anaconda/envs/lab_keras_env/lib/python2.7/site-packages/theano/sandbox/cuda/__init__.py:600: UserWarning: Your cuDNN version is more recent than the one Theano officially supports. If you see any problems, try updating Theano or downgrading cuDNN to version 5.\n",
      "  warnings.warn(warn)\n",
      "/users/pgreens/anaconda/envs/lab_keras_env/lib/python2.7/site-packages/theano/tensor/signal/downsample.py:6: UserWarning: downsample module has been moved to the theano.tensor.signal.pool module.\n",
      "  \"downsample module has been moved to the theano.tensor.signal.pool module.\")\n"
     ]
    }
   ],
   "source": [
    "# Imports\n",
    "\n",
    "import os, sys\n",
    "import numpy as np\n",
    "import pandas as pd\n",
    "import gzip\n",
    "\n",
    "import matplotlib\n",
    "matplotlib.use('Agg') \n",
    "import matplotlib.pyplot as plt\n",
    "\n",
    "import pickle\n",
    "import itertools\n",
    "\n",
    "from keras.models import model_from_json\n",
    "from Bio import SeqIO\n",
    "\n",
    "import dfim\n"
   ]
  },
  {
   "cell_type": "code",
   "execution_count": 5,
   "metadata": {},
   "outputs": [],
   "source": [
    "# Specify data files\n",
    "\n",
    "labels = 'embedded_motif_interaction_data/labels.txt.gz'\n",
    "fasta_file = 'embedded_motif_interaction_data/sequences.fa.gz'\n",
    "simdata_file = 'embedded_motif_interaction_data/simulation_metadata.txt.gz'\n",
    "\n",
    "model_weights = 'embedded_motif_interaction_data/model_weights.h5'\n",
    "model_architecture = 'embedded_motif_interaction_data/model_architecture.json'\n"
   ]
  },
  {
   "cell_type": "code",
   "execution_count": 6,
   "metadata": {},
   "outputs": [],
   "source": [
    "# Load model \n",
    "\n",
    "model_json = open(model_architecture, 'r').read()\n",
    "model = model_from_json(model_json)\n",
    "model.load_weights(model_weights)\n",
    "\n"
   ]
  },
  {
   "cell_type": "code",
   "execution_count": 7,
   "metadata": {},
   "outputs": [
    {
     "ename": "AttributeError",
     "evalue": "'module' object has no attribute 'util'",
     "output_type": "error",
     "traceback": [
      "\u001b[0;31m---------------------------------------------------------------------------\u001b[0m",
      "\u001b[0;31mAttributeError\u001b[0m                            Traceback (most recent call last)",
      "\u001b[0;32m<ipython-input-7-efe7c528cb5b>\u001b[0m in \u001b[0;36m<module>\u001b[0;34m()\u001b[0m\n\u001b[1;32m      8\u001b[0m     \u001b[0mname\u001b[0m\u001b[0;34m,\u001b[0m \u001b[0msequence\u001b[0m \u001b[0;34m=\u001b[0m \u001b[0mfasta\u001b[0m\u001b[0;34m.\u001b[0m\u001b[0mid\u001b[0m\u001b[0;34m,\u001b[0m \u001b[0mstr\u001b[0m\u001b[0;34m(\u001b[0m\u001b[0mfasta\u001b[0m\u001b[0;34m.\u001b[0m\u001b[0mseq\u001b[0m\u001b[0;34m)\u001b[0m\u001b[0;34m\u001b[0m\u001b[0m\n\u001b[1;32m      9\u001b[0m     \u001b[0mseq_fasta_list\u001b[0m\u001b[0;34m.\u001b[0m\u001b[0mappend\u001b[0m\u001b[0;34m(\u001b[0m\u001b[0msequence\u001b[0m\u001b[0;34m)\u001b[0m\u001b[0;34m\u001b[0m\u001b[0m\n\u001b[0;32m---> 10\u001b[0;31m     \u001b[0mnew_sequence\u001b[0m \u001b[0;34m=\u001b[0m \u001b[0mdfim\u001b[0m\u001b[0;34m.\u001b[0m\u001b[0mutil\u001b[0m\u001b[0;34m.\u001b[0m\u001b[0mone_hot_encode\u001b[0m\u001b[0;34m(\u001b[0m\u001b[0msequence\u001b[0m\u001b[0;34m)\u001b[0m\u001b[0;34m\u001b[0m\u001b[0m\n\u001b[0m\u001b[1;32m     11\u001b[0m     \u001b[0msequence_list\u001b[0m\u001b[0;34m.\u001b[0m\u001b[0mappend\u001b[0m\u001b[0;34m(\u001b[0m\u001b[0mnew_sequence\u001b[0m\u001b[0;34m)\u001b[0m\u001b[0;34m\u001b[0m\u001b[0m\n\u001b[1;32m     12\u001b[0m \u001b[0msequences\u001b[0m \u001b[0;34m=\u001b[0m \u001b[0mnp\u001b[0m\u001b[0;34m.\u001b[0m\u001b[0marray\u001b[0m\u001b[0;34m(\u001b[0m\u001b[0msequence_list\u001b[0m\u001b[0;34m)\u001b[0m\u001b[0;34m\u001b[0m\u001b[0m\n",
      "\u001b[0;31mAttributeError\u001b[0m: 'module' object has no attribute 'util'"
     ]
    }
   ],
   "source": [
    "# Load sequences\n",
    "\n",
    "fasta_sequences = SeqIO.parse(gzip.open(fasta_file),'fasta')\n",
    "sequence_list = []\n",
    "seq_fasta_list = []\n",
    "\n",
    "for fasta in fasta_sequences:\n",
    "    name, sequence = fasta.id, str(fasta.seq)\n",
    "    seq_fasta_list.append(sequence)\n",
    "    new_sequence = dfim.util.one_hot_encode(sequence)\n",
    "    sequence_list.append(new_sequence)\n",
    "sequences = np.array(sequence_list)\n"
   ]
  },
  {
   "cell_type": "code",
   "execution_count": null,
   "metadata": {},
   "outputs": [],
   "source": [
    "seqlet_loc_dict = dfim.util.process_locations_from_simdata(sequences, simdataFile)\n",
    "\n",
    "# Read in labels\n",
    "allLabels = pd.read_table(input_labels).ix[:,1::]\n",
    "\n",
    "# Generate predictions\n",
    "print('Generating Predictions')\n",
    "allPredictions = model.predict(sequences)\n",
    "\n",
    "# Find correct predictions for the certain label index (starting with Bcells)\n",
    "correct_pred_dict = {}\n",
    "pred_dict = {}\n",
    "labels_dict = {}\n",
    "\n",
    "task = 2\n",
    "labels_dict[task] = allLabels.iloc[:,task].tolist()\n",
    "pred_dict[task] = allPredictions[:,0].tolist()\n",
    "correct_pred_dict[task] = dfim.util.get_correct_predictions(labels_dict[task], pred_dict[task])\n",
    "correct_pred_list = [el[0] for el in correct_pred_dict[task]]\n",
    "\n",
    "compute_range = range(50000,51000)\n",
    "compute_index = [el for el in deeplift_range if el in correct_pred_list]\n"
   ]
  }
 ],
 "metadata": {
  "kernelspec": {
   "display_name": "Python 2",
   "language": "python",
   "name": "python2"
  },
  "language_info": {
   "codemirror_mode": {
    "name": "ipython",
    "version": 2
   },
   "file_extension": ".py",
   "mimetype": "text/x-python",
   "name": "python",
   "nbconvert_exporter": "python",
   "pygments_lexer": "ipython2",
   "version": "2.7.13"
  }
 },
 "nbformat": 4,
 "nbformat_minor": 2
}
